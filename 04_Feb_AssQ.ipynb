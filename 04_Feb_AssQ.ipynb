{
  "nbformat": 4,
  "nbformat_minor": 0,
  "metadata": {
    "colab": {
      "provenance": []
    },
    "kernelspec": {
      "name": "python3",
      "display_name": "Python 3"
    },
    "language_info": {
      "name": "python"
    }
  },
  "cells": [
    {
      "cell_type": "markdown",
      "source": [
        "\n",
        "Q1. Create a python program to sort the given list of tuples based on integer value using a\n",
        "lambda function.\n",
        "\n",
        "\n"
      ],
      "metadata": {
        "id": "yUeHtVpURhDS"
      }
    },
    {
      "cell_type": "code",
      "source": [
        "#python program to sort the given list of tuples based on integer value using a lambda function\n",
        "u= [('Sachin Tendulkar', 34357), ('Ricky Ponting', 27483), ('Jack Kallis', 25534), ('Virat Kohli', 24936)]\n",
        "data = sorted (u,key =lambda x : x [1])\n",
        "for i in data :\n",
        "  print (i)"
      ],
      "metadata": {
        "colab": {
          "base_uri": "https://localhost:8080/"
        },
        "id": "Z3_YNurXRj9n",
        "outputId": "304b7e69-44db-4975-de8a-ad4b673e0d42"
      },
      "execution_count": 28,
      "outputs": [
        {
          "output_type": "stream",
          "name": "stdout",
          "text": [
            "('Virat Kohli', 24936)\n",
            "('Jack Kallis', 25534)\n",
            "('Ricky Ponting', 27483)\n",
            "('Sachin Tendulkar', 34357)\n"
          ]
        }
      ]
    },
    {
      "cell_type": "markdown",
      "source": [
        "Q2. Write a Python Program to find the squares of all the numbers in the given list of integers using\n",
        "lambda and map functions.\n"
      ],
      "metadata": {
        "id": "somY97z5YtQU"
      }
    },
    {
      "cell_type": "code",
      "source": [
        "#Python Program to find the squares of all the numbers in the given list of integers using lambda and map functions\n",
        "\n",
        "num= [1, 2, 3, 4, 5, 6, 7, 8, 9, 10]\n",
        "i=list(map(lambda num : num**2,num))\n",
        "print(i)"
      ],
      "metadata": {
        "colab": {
          "base_uri": "https://localhost:8080/"
        },
        "id": "l98HZRy0RkwZ",
        "outputId": "ed739a32-5bfb-4d72-d72a-505d04a42e13"
      },
      "execution_count": 27,
      "outputs": [
        {
          "output_type": "stream",
          "name": "stdout",
          "text": [
            "[1, 4, 9, 16, 25, 36, 49, 64, 81, 100]\n"
          ]
        }
      ]
    },
    {
      "cell_type": "markdown",
      "source": [
        "Q3. Write a python program to convert the given list of integers into a tuple of strings. Use map and\n",
        "lambda functions"
      ],
      "metadata": {
        "id": "6uJR5bXyacSR"
      }
    },
    {
      "cell_type": "code",
      "source": [
        "#convert the given list of integers into a tuple of strings\n",
        "string= [1, 2, 3, 4, 5, 6, 7, 8, 9, 10]\n",
        "t=tuple(map(lambda string : str(string),string))\n",
        "t"
      ],
      "metadata": {
        "colab": {
          "base_uri": "https://localhost:8080/"
        },
        "id": "2lEEEAN0Y-Hd",
        "outputId": "9668b489-321f-4564-b3a3-f67957398e2b"
      },
      "execution_count": 25,
      "outputs": [
        {
          "output_type": "execute_result",
          "data": {
            "text/plain": [
              "('1', '2', '3', '4', '5', '6', '7', '8', '9', '10')"
            ]
          },
          "metadata": {},
          "execution_count": 25
        }
      ]
    },
    {
      "cell_type": "markdown",
      "source": [
        "Q4.  Write a python program using reduce function to compute the product of a list containing numbers\n",
        "from 1 to 25.\n",
        "\n",
        "\n",
        "\n"
      ],
      "metadata": {
        "id": "X33_-r1acLaK"
      }
    },
    {
      "cell_type": "code",
      "source": [
        "#python program using reduce function to compute the product of a list containing numbers from 1 to 25.\n",
        "from functools import reduce\n"
      ],
      "metadata": {
        "id": "G2QWuzNVZGsN"
      },
      "execution_count": 33,
      "outputs": []
    },
    {
      "cell_type": "code",
      "source": [
        "numb= list(range(1, 26))\n",
        "prod= reduce (lambda d,c : d+c,numb )\n",
        "prod"
      ],
      "metadata": {
        "colab": {
          "base_uri": "https://localhost:8080/"
        },
        "id": "avGPyA7fflWN",
        "outputId": "4f803ef0-3cc6-4b84-bd95-f850911a2209"
      },
      "execution_count": 32,
      "outputs": [
        {
          "output_type": "execute_result",
          "data": {
            "text/plain": [
              "325"
            ]
          },
          "metadata": {},
          "execution_count": 32
        }
      ]
    },
    {
      "cell_type": "markdown",
      "source": [
        "Q5. Write a python program to filter the numbers in a given list that are divisible by 2 and 3 using the\n",
        "filter function."
      ],
      "metadata": {
        "id": "5BAdpFSYhJZG"
      }
    },
    {
      "cell_type": "code",
      "source": [
        "y = [2, 3, 6, 9, 27, 60, 90, 120, 55, 46]\n",
        "t=list(filter(lambda y : y%2 or y%3==0,y))\n",
        "t"
      ],
      "metadata": {
        "colab": {
          "base_uri": "https://localhost:8080/"
        },
        "id": "bKolApMmft07",
        "outputId": "e051a2f5-cd52-47e7-c356-61dfd0c08eed"
      },
      "execution_count": 39,
      "outputs": [
        {
          "output_type": "execute_result",
          "data": {
            "text/plain": [
              "[3, 6, 9, 27, 60, 90, 120, 55]"
            ]
          },
          "metadata": {},
          "execution_count": 39
        }
      ]
    },
    {
      "cell_type": "markdown",
      "source": [
        "Q6. Write a python program to find palindromes in the given list of strings using lambda and filter\n",
        "function."
      ],
      "metadata": {
        "id": "Xu_73sjWiqaU"
      }
    },
    {
      "cell_type": "code",
      "source": [
        "w1= ['python', 'php', 'aba', 'radar', 'level']\n",
        "h=list( filter(lambda w1:w1==w1[::-1],w1))\n",
        "print(h)"
      ],
      "metadata": {
        "colab": {
          "base_uri": "https://localhost:8080/"
        },
        "id": "u0dQqK2QipOF",
        "outputId": "81d68eee-cc41-4588-f9b0-be62638e36cd"
      },
      "execution_count": 53,
      "outputs": [
        {
          "output_type": "stream",
          "name": "stdout",
          "text": [
            "['php', 'aba', 'radar', 'level']\n"
          ]
        }
      ]
    },
    {
      "cell_type": "code",
      "source": [],
      "metadata": {
        "id": "ccQKngzph1bj"
      },
      "execution_count": null,
      "outputs": []
    }
  ]
}