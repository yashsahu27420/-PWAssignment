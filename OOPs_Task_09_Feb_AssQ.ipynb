{
  "nbformat": 4,
  "nbformat_minor": 0,
  "metadata": {
    "colab": {
      "provenance": []
    },
    "kernelspec": {
      "name": "python3",
      "display_name": "Python 3"
    },
    "language_info": {
      "name": "python"
    }
  },
  "cells": [
    {
      "cell_type": "markdown",
      "source": [
        "Q1. Create a vehicle class with an init method having instance varia:bles as name_of_vehicle, max_speed\n",
        "and average_of_vehicle.**bold text**"
      ],
      "metadata": {
        "id": "uDNEOy35Rszy"
      }
    },
    {
      "cell_type": "code",
      "execution_count": null,
      "metadata": {
        "id": "jFvfZXjqRr_l"
      },
      "outputs": [],
      "source": [
        "# Create a vehicle class with an init method having instance varia:bles as name_of_vehicle, max_speed and average_of_vehicle.\n",
        "class car :\n",
        "  def __init__(self,average ,model, speed) :\n",
        "      self.average_of_vehicle= average\n",
        "      self.name_of_vehicle =model\n",
        "      self.max_speed_and_average =speed\n"
      ]
    },
    {
      "cell_type": "markdown",
      "source": [
        "Q2. Create a child class car from the vehicle class created in Que 1, which will inherit the vehicle class.\n",
        "Create a method named seating_capacity which takes capacity as an argument and returns the name of\n",
        "the vehicle and its seating capacity."
      ],
      "metadata": {
        "id": "AwfB2ambYE1V"
      }
    },
    {
      "cell_type": "code",
      "source": [
        "class car1(car):\n",
        "  def  seating_capacity(self,capacity):\n",
        "       return f\"The {self.name_of_vehicle} has a seating capacity of {capacity}.\"\n",
        "c=car1 (21,\"creta\" ,200)\n",
        "w=car1 (20,\"FW\" ,205)\n",
        "result = w.seating_capacity(5)\n",
        "result"
      ],
      "metadata": {
        "colab": {
          "base_uri": "https://localhost:8080/",
          "height": 36
        },
        "id": "HfetNKkUWgFH",
        "outputId": "5def24d8-677c-4ded-c547-4cdfb1075df6"
      },
      "execution_count": null,
      "outputs": [
        {
          "output_type": "execute_result",
          "data": {
            "text/plain": [
              "'The FW has a seating capacity of 5.'"
            ],
            "application/vnd.google.colaboratory.intrinsic+json": {
              "type": "string"
            }
          },
          "metadata": {},
          "execution_count": 11
        }
      ]
    },
    {
      "cell_type": "markdown",
      "source": [
        "Q3. What is multiple inheritance? Write a python code to demonstrate multiple inheritance.\n"
      ],
      "metadata": {
        "id": "9tD1VF6qV_Bm"
      }
    },
    {
      "cell_type": "code",
      "source": [
        "\"\"\"Multiple inheritance is a feature in object-oriented programming where a class can inherit attributes and methods from multiple parent classes.\"\"\"\n",
        "class Animal:\n",
        "    def __init__(self, name):\n",
        "        self.name = name\n",
        "\n",
        "    def eat(self):\n",
        "        print(f\"{self.name} is eating.\")\n",
        "\n",
        "class Flyable:\n",
        "    def fly(self):\n",
        "        print(\"Flying.\")\n",
        "\n",
        "class Bird(Animal, Flyable):\n",
        "    def __init__(self, name):\n",
        "        super().__init__(name)\n",
        "\n",
        "bird = Bird(\"Sparrow\")\n",
        "bird.eat()  # Output: Sparrow is eating.\n",
        "bird.fly()  # Output: Flying.\n"
      ],
      "metadata": {
        "id": "8R2WWVytWFAU",
        "colab": {
          "base_uri": "https://localhost:8080/"
        },
        "outputId": "58cfc890-0859-4815-d205-22b5afdd2fe4"
      },
      "execution_count": null,
      "outputs": [
        {
          "output_type": "stream",
          "name": "stdout",
          "text": [
            "Sparrow is eating.\n",
            "Flying.\n"
          ]
        }
      ]
    },
    {
      "cell_type": "markdown",
      "source": [
        "Q4. What are getter and setter in python? Create a class and create a getter and a setter method in this\n",
        "class"
      ],
      "metadata": {
        "id": "ijBzi6jRDBaJ"
      }
    },
    {
      "cell_type": "code",
      "source": [
        "#Getters and setters are methods used to access and modify the values of private variables in a class.\n",
        "class stud :\n",
        "  def __init__(self,year ,name , course) :\n",
        "      self.year=year # public variables\n",
        "      self.__name =name # private variables\n",
        "      self.__course =course  # private variables"
      ],
      "metadata": {
        "id": "r86DgxD6Cwxj"
      },
      "execution_count": 18,
      "outputs": []
    },
    {
      "cell_type": "code",
      "source": [
        "y= stud(2021,\"yash\",\"DS\")"
      ],
      "metadata": {
        "id": "QR20Xy8gEN_n"
      },
      "execution_count": 19,
      "outputs": []
    },
    {
      "cell_type": "code",
      "source": [
        "y.year # public variables"
      ],
      "metadata": {
        "colab": {
          "base_uri": "https://localhost:8080/"
        },
        "id": "UUPI_-y-6d9A",
        "outputId": "83d76f08-40d8-4b29-d9b4-85aa6cf9501d"
      },
      "execution_count": 23,
      "outputs": [
        {
          "output_type": "execute_result",
          "data": {
            "text/plain": [
              "2021"
            ]
          },
          "metadata": {},
          "execution_count": 23
        }
      ]
    },
    {
      "cell_type": "code",
      "source": [
        "y._stud__course  # private variables"
      ],
      "metadata": {
        "colab": {
          "base_uri": "https://localhost:8080/",
          "height": 35
        },
        "id": "9Mk4b5jK7WIS",
        "outputId": "57fdc3bd-3cb8-49fb-d3cf-5f013b9d6f72"
      },
      "execution_count": 24,
      "outputs": [
        {
          "output_type": "execute_result",
          "data": {
            "text/plain": [
              "'DS'"
            ],
            "application/vnd.google.colaboratory.intrinsic+json": {
              "type": "string"
            }
          },
          "metadata": {},
          "execution_count": 24
        }
      ]
    },
    {
      "cell_type": "markdown",
      "source": [
        "Q5.What is method overriding in python? Write a python code to demonstrate method overriding.\n"
      ],
      "metadata": {
        "id": "SMSef00f8RQ7"
      }
    },
    {
      "cell_type": "code",
      "source": [
        "# Method overriding in Python refers to the ability of a subclass to provide a different implementation of a method inherited from its superclass.\n",
        "class Animal:\n",
        "    def make_sound(self):\n",
        "        print(\"Animal makes a sound.\")\n",
        "\n",
        "class Dog(Animal):\n",
        "    def make_sound(self):\n",
        "        print(\"Dog barks.\")\n"
      ],
      "metadata": {
        "id": "C4iSCvC07zZV"
      },
      "execution_count": 33,
      "outputs": []
    },
    {
      "cell_type": "code",
      "source": [
        "animal = Animal()\n",
        "animal.make_sound()  # Animal makes a sound."
      ],
      "metadata": {
        "colab": {
          "base_uri": "https://localhost:8080/"
        },
        "id": "iG-VQs0L9eM0",
        "outputId": "75674220-039c-4e12-c7ec-937af77336de"
      },
      "execution_count": 31,
      "outputs": [
        {
          "output_type": "stream",
          "name": "stdout",
          "text": [
            "Animal makes a sound.\n"
          ]
        }
      ]
    },
    {
      "cell_type": "code",
      "source": [
        "dog = Dog()\n",
        "dog.make_sound() # Dog barks."
      ],
      "metadata": {
        "colab": {
          "base_uri": "https://localhost:8080/"
        },
        "id": "L9gai8np9peb",
        "outputId": "29666694-60e7-4d46-e0cd-04f0813d6aec"
      },
      "execution_count": 32,
      "outputs": [
        {
          "output_type": "stream",
          "name": "stdout",
          "text": [
            "Dog barks.\n"
          ]
        }
      ]
    },
    {
      "cell_type": "code",
      "source": [],
      "metadata": {
        "id": "loMpqTgD-iC-"
      },
      "execution_count": null,
      "outputs": []
    }
  ]
}