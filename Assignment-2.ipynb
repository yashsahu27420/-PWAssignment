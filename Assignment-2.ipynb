{
 "cells": [
  {
   "cell_type": "markdown",
   "id": "af993170-8ac2-4226-97e3-50278bc88921",
   "metadata": {},
   "source": [
    "Q1. How do you comment code in Python? What are the different types of comments?"
   ]
  },
  {
   "cell_type": "code",
   "execution_count": 4,
   "id": "e0f9ab96-cede-4c78-8c1b-72d666ccff5c",
   "metadata": {},
   "outputs": [],
   "source": [
    "#How do you comment code in Python? What are the different types of comments?\n"
   ]
  },
  {
   "cell_type": "markdown",
   "id": "da8843ac-f5f5-4fd3-b015-a9f7c5d74fdc",
   "metadata": {},
   "source": [
    "Q2. What are variables in Python? How do you declare and assign values to variables?"
   ]
  },
  {
   "cell_type": "code",
   "execution_count": 5,
   "id": "9df2b784-83b5-4fa2-a16c-13edf4d4c6a9",
   "metadata": {},
   "outputs": [
    {
     "name": "stdout",
     "output_type": "stream",
     "text": [
      "hello\n",
      "52\n",
      "633.33\n"
     ]
    }
   ],
   "source": [
    "variable_1=\"hello\"\n",
    "variable_2=52\n",
    "variable_3=633.33\n",
    "print(variable_1)\n",
    "print(variable_2)\n",
    "print(variable_3)"
   ]
  },
  {
   "cell_type": "markdown",
   "id": "e8084e58-8735-40f7-b30e-2207a3cf65b5",
   "metadata": {},
   "source": [
    "Q3. How do you convert one data type to another in Python?"
   ]
  },
  {
   "cell_type": "code",
   "execution_count": 17,
   "id": "d4b810b9-c929-4b59-ac74-1cfaa02b890d",
   "metadata": {},
   "outputs": [
    {
     "name": "stdout",
     "output_type": "stream",
     "text": [
      "<class 'str'>\n",
      "<class 'int'>\n"
     ]
    }
   ],
   "source": [
    "# Converting a string to an integer\n",
    "variable= \"2424527\"\n",
    "print(type(variable))\n",
    "number = int(variable)\n",
    "print(type( number))"
   ]
  },
  {
   "cell_type": "markdown",
   "id": "83870dd9-ef5f-4522-bf32-773193da87e6",
   "metadata": {},
   "source": [
    "Q4. How do you write and execute a Python script from the command line?"
   ]
  },
  {
   "cell_type": "markdown",
   "id": "38e34a41-f642-4843-b7c4-b09fd2128000",
   "metadata": {},
   "source": [
    "Ans.\n",
    "To write and execute a Python script from the command line:\n",
    "\n",
    "Open a text editor and write your Python code.\n",
    "Save the file with a .py extension.\n",
    "Open the command line interface.\n",
    "Navigate to the directory where the script is saved.\n",
    "Run the script using the command \"Hello.py\".\n",
    "Press Enter to execute the script and see the output."
   ]
  },
  {
   "cell_type": "code",
   "execution_count": 23,
   "id": "dc1746cb-bec0-4fd4-8b5a-a83be6974a24",
   "metadata": {},
   "outputs": [
    {
     "data": {
      "text/plain": [
       "[2, 3]"
      ]
     },
     "execution_count": 23,
     "metadata": {},
     "output_type": "execute_result"
    }
   ],
   "source": [
    "my_list = [1, 2, 3, 4, 5]\n",
    "my_list[1:3]"
   ]
  },
  {
   "cell_type": "markdown",
   "id": "0ab73344-c372-45e6-a4d1-9f3c7d38475d",
   "metadata": {},
   "source": [
    "Q6. What is a complex number in mathematics, and how is it represented in Python?\n"
   ]
  },
  {
   "cell_type": "code",
   "execution_count": 35,
   "id": "31cd9bf9-6de6-4d54-bd2f-8469a99f4e03",
   "metadata": {},
   "outputs": [],
   "source": [
    "f1 = 4 + 5j\n",
    "f2 = -57+ 2j"
   ]
  },
  {
   "cell_type": "markdown",
   "id": "96c3b2a1-53d2-4cc9-a9d0-2b3091a57bd5",
   "metadata": {},
   "source": [
    "Q7. What is the correct way to declare a variable named age and assign the value 25 to it?"
   ]
  },
  {
   "cell_type": "code",
   "execution_count": 37,
   "id": "1787e689-aa64-4aba-be04-f7342da74660",
   "metadata": {},
   "outputs": [
    {
     "data": {
      "text/plain": [
       "25"
      ]
     },
     "execution_count": 37,
     "metadata": {},
     "output_type": "execute_result"
    }
   ],
   "source": [
    "D = 25\n",
    "D"
   ]
  },
  {
   "cell_type": "markdown",
   "id": "d8b0ed74-f273-48ee-b0e7-8a173f93efb2",
   "metadata": {},
   "source": [
    "Q8. Declare a variable named price and assign the value 9.99 to it. What data type does this variable belong to?\n"
   ]
  },
  {
   "cell_type": "code",
   "execution_count": 43,
   "id": "66e0835b-e2ac-4528-84cd-7c2eadb52550",
   "metadata": {},
   "outputs": [
    {
     "data": {
      "text/plain": [
       "float"
      ]
     },
     "execution_count": 43,
     "metadata": {},
     "output_type": "execute_result"
    }
   ],
   "source": [
    "var = 9.99\n",
    "type(var)"
   ]
  },
  {
   "cell_type": "markdown",
   "id": "4f7a097f-3e03-4139-9daa-e468a9778764",
   "metadata": {},
   "source": [
    "Q9. Create a variable named name and assign your full name to it as a string. How would you print the value of this variable?"
   ]
  },
  {
   "cell_type": "code",
   "execution_count": 45,
   "id": "e4433393-bfe4-45ca-8631-a551f112badb",
   "metadata": {},
   "outputs": [
    {
     "name": "stdout",
     "output_type": "stream",
     "text": [
      "Yash Sahu\n"
     ]
    }
   ],
   "source": [
    "name =\"Yash Sahu\"\n",
    "print(name)"
   ]
  },
  {
   "cell_type": "markdown",
   "id": "f95595b8-ad8b-4631-8948-87bbaa035116",
   "metadata": {},
   "source": [
    "Q10. Given the string \"Hello, World!\", extract the substring \"World\"."
   ]
  },
  {
   "cell_type": "code",
   "execution_count": 49,
   "id": "d91cc99a-a9d1-43d4-89a6-dc152ab496eb",
   "metadata": {},
   "outputs": [
    {
     "data": {
      "text/plain": [
       "'World!'"
      ]
     },
     "execution_count": 49,
     "metadata": {},
     "output_type": "execute_result"
    }
   ],
   "source": [
    "re=  \"Hello, World!\"\n",
    "World= re[7:]\n",
    "World"
   ]
  },
  {
   "cell_type": "code",
   "execution_count": null,
   "id": "7684bc2f-440f-4487-806f-08bf12156be9",
   "metadata": {},
   "outputs": [],
   "source": []
  }
 ],
 "metadata": {
  "kernelspec": {
   "display_name": "Python 3 (ipykernel)",
   "language": "python",
   "name": "python3"
  },
  "language_info": {
   "codemirror_mode": {
    "name": "ipython",
    "version": 3
   },
   "file_extension": ".py",
   "mimetype": "text/x-python",
   "name": "python",
   "nbconvert_exporter": "python",
   "pygments_lexer": "ipython3",
   "version": "3.10.8"
  }
 },
 "nbformat": 4,
 "nbformat_minor": 5
}
