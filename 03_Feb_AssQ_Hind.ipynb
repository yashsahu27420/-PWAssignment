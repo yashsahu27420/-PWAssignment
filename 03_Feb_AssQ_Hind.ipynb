{
  "cells": [
    {
      "cell_type": "markdown",
      "id": "0475b55f-81ff-4b4c-b03f-5092c405d6d6",
      "metadata": {
        "id": "0475b55f-81ff-4b4c-b03f-5092c405d6d6"
      },
      "source": [
        "Q1. Which keyword is used to create a function? Create a function to return a list of odd numbers in the range of 1 to 25.\n",
        "\n"
      ]
    },
    {
      "cell_type": "code",
      "execution_count": 75,
      "id": "4f3ff72a-a336-497e-b59f-7a96cf0f9bd0",
      "metadata": {
        "id": "4f3ff72a-a336-497e-b59f-7a96cf0f9bd0"
      },
      "outputs": [],
      "source": [
        "# def & lambda keyword is used to create a function"
      ]
    },
    {
      "cell_type": "code",
      "execution_count": 76,
      "id": "b1b9d99a-81ad-4333-8470-e59536a0a529",
      "metadata": {
        "colab": {
          "base_uri": "https://localhost:8080/"
        },
        "id": "b1b9d99a-81ad-4333-8470-e59536a0a529",
        "outputId": "88cabfcd-3c3f-417e-8987-036c1438b398"
      },
      "outputs": [
        {
          "output_type": "stream",
          "name": "stdout",
          "text": [
            "[1, 3, 5, 7, 9, 11, 13, 15, 17, 19, 21, 23, 25]\n"
          ]
        }
      ],
      "source": [
        "def get_odd():\n",
        "    odd = []\n",
        "    for number in range(26):\n",
        "        if number % 2 != 0:\n",
        "            odd.append(number)\n",
        "    return odd\n",
        "\n",
        "# Example usage\n",
        "odd_nums = get_odd()\n",
        "print(odd_nums)\n",
        "\n"
      ]
    },
    {
      "cell_type": "markdown",
      "source": [
        "Q2. Why *args and **kwargs is used in some functions? Create a function each for *args and **kwargs\n",
        "to demonstrate their use.\n"
      ],
      "metadata": {
        "id": "cA_wdlWfYNP9"
      },
      "id": "cA_wdlWfYNP9"
    },
    {
      "cell_type": "code",
      "execution_count": 77,
      "id": "5211ede6-2fbf-4ee8-ae6b-8c2448265d15",
      "metadata": {
        "id": "5211ede6-2fbf-4ee8-ae6b-8c2448265d15",
        "colab": {
          "base_uri": "https://localhost:8080/"
        },
        "outputId": "ce345462-722a-4dbe-b685-4dff1d7eb64d"
      },
      "outputs": [
        {
          "output_type": "stream",
          "name": "stdout",
          "text": [
            "('yash', 'yashika', 'hello', 'just checking', 'new entry')\n"
          ]
        }
      ],
      "source": [
        "# args  is used allows us to pass a variable number of non-keyword arguments\n",
        "#example 1\n",
        "def fun (*t):\n",
        "  print (t)\n",
        "test= [\"yash\",\"yashika\",\"hello\",\"just checking\",\"new entry\"]\n",
        "fun(*test)"
      ]
    },
    {
      "cell_type": "code",
      "source": [
        "#example 2\n",
        "def multiply (*y):\n",
        "  \"\"\"this is used for multiplication\"\"\"\n",
        "  u=1\n",
        "  for p in y:\n",
        "    u=p*u\n",
        "    print (u)\n",
        "multiply(5,2,52220)"
      ],
      "metadata": {
        "id": "ur-hXcqSZq7m",
        "colab": {
          "base_uri": "https://localhost:8080/"
        },
        "outputId": "f5aace9e-4954-42b9-ffb8-a64d70bc30b2"
      },
      "id": "ur-hXcqSZq7m",
      "execution_count": 88,
      "outputs": [
        {
          "output_type": "stream",
          "name": "stdout",
          "text": [
            "5\n",
            "10\n",
            "522200\n"
          ]
        }
      ]
    },
    {
      "cell_type": "code",
      "source": [
        "#kwargs only difference from args is that it uses keywords and returns the values in the form of a dictionary\n",
        "def rint (**k):\n",
        "  \"\"\"\"this is used for printing the output    \"\"\"\n",
        "  return k\n",
        "rint(a= 5656,b=51564, c=78.5488)\n"
      ],
      "metadata": {
        "id": "YxtdPqVeaQsx",
        "colab": {
          "base_uri": "https://localhost:8080/"
        },
        "outputId": "bfd9d528-021e-4db2-dde5-ca53c9032e6c"
      },
      "id": "YxtdPqVeaQsx",
      "execution_count": 79,
      "outputs": [
        {
          "output_type": "execute_result",
          "data": {
            "text/plain": [
              "{'a': 5656, 'b': 51564, 'c': 78.5488}"
            ]
          },
          "metadata": {},
          "execution_count": 79
        }
      ]
    },
    {
      "cell_type": "markdown",
      "source": [
        "Q3.  What is an iterator in python? Name the method used to initialise the iterator object and the method\n",
        "used for iteration. Use these methods to print the first five elements of the given list [2, 4, 6, 8, 10, 12, 14,\n",
        "16, 18, 20].\n"
      ],
      "metadata": {
        "id": "hT12uIr5STR0"
      },
      "id": "hT12uIr5STR0"
    },
    {
      "cell_type": "code",
      "source": [
        "# iterator is any object which is not iterable like str\n",
        "# iter() used to initialise the iterator object and the method used for iteration\n",
        "h = [2, 4, 6, 8, 10, 12, 14, 16, 18, 20]\n",
        "h[ :5]"
      ],
      "metadata": {
        "colab": {
          "base_uri": "https://localhost:8080/"
        },
        "id": "-kI6Na8YOFYL",
        "outputId": "202e0b1c-95bc-44be-b80a-3972837a57c8"
      },
      "id": "-kI6Na8YOFYL",
      "execution_count": 80,
      "outputs": [
        {
          "output_type": "execute_result",
          "data": {
            "text/plain": [
              "[2, 4, 6, 8, 10]"
            ]
          },
          "metadata": {},
          "execution_count": 80
        }
      ]
    },
    {
      "cell_type": "markdown",
      "source": [
        "Q4. What is a generator function in python? Why yield keyword is used? Give an example of a generator\n",
        "function.\n"
      ],
      "metadata": {
        "id": "b5aVcjQhWtqC"
      },
      "id": "b5aVcjQhWtqC"
    },
    {
      "cell_type": "code",
      "source": [
        "#A generator function in Python is a special type of function that generates values using the yield keyword.\n",
        "#example :\n",
        "def fib_num (n):\n",
        "    d,c= 1,2\n",
        "    for j in range (n):\n",
        "        yield d\n",
        "        d,c = c, d+c\n",
        "\n",
        "for h in fib_num(12):\n",
        "  print(h)"
      ],
      "metadata": {
        "colab": {
          "base_uri": "https://localhost:8080/"
        },
        "id": "RFsDqMi1Wvdh",
        "outputId": "4c7147e5-8fe4-4e56-a16c-959ea04a6f2e"
      },
      "id": "RFsDqMi1Wvdh",
      "execution_count": 81,
      "outputs": [
        {
          "output_type": "stream",
          "name": "stdout",
          "text": [
            "1\n",
            "2\n",
            "3\n",
            "5\n",
            "8\n",
            "13\n",
            "21\n",
            "34\n",
            "55\n",
            "89\n",
            "144\n",
            "233\n"
          ]
        }
      ]
    },
    {
      "cell_type": "markdown",
      "source": [
        "Q5. Create a generator function for prime numbers less than 1000. Use the next() method to print the\n",
        "first 20 prime numbers.\n"
      ],
      "metadata": {
        "id": "Ap8wlmTYcwNx"
      },
      "id": "Ap8wlmTYcwNx"
    },
    {
      "cell_type": "code",
      "source": [
        "def prime_numbers (n):\n",
        "  if n < 2:\n",
        "        return False\n",
        "\n",
        "  for i in range(2,int(n**0.5) + 1):\n",
        "    if n % i ==0:\n",
        "      return False\n",
        "    return True\n"
      ],
      "metadata": {
        "id": "kjZMo_AKbqyI"
      },
      "id": "kjZMo_AKbqyI",
      "execution_count": 82,
      "outputs": []
    },
    {
      "cell_type": "code",
      "source": [
        "for number in range(1,1003):\n",
        "  if prime_numbers(number):\n",
        "    print (number)"
      ],
      "metadata": {
        "colab": {
          "base_uri": "https://localhost:8080/"
        },
        "id": "Gv7U_Eovhnz1",
        "outputId": "2dbd46da-3a1b-49d4-a38a-531dbadea72b"
      },
      "id": "Gv7U_Eovhnz1",
      "execution_count": 83,
      "outputs": [
        {
          "output_type": "stream",
          "name": "stdout",
          "text": [
            "5\n",
            "7\n",
            "9\n",
            "11\n",
            "13\n",
            "15\n",
            "17\n",
            "19\n",
            "21\n",
            "23\n",
            "25\n",
            "27\n",
            "29\n",
            "31\n",
            "33\n",
            "35\n",
            "37\n",
            "39\n",
            "41\n",
            "43\n",
            "45\n",
            "47\n",
            "49\n",
            "51\n",
            "53\n",
            "55\n",
            "57\n",
            "59\n",
            "61\n",
            "63\n",
            "65\n",
            "67\n",
            "69\n",
            "71\n",
            "73\n",
            "75\n",
            "77\n",
            "79\n",
            "81\n",
            "83\n",
            "85\n",
            "87\n",
            "89\n",
            "91\n",
            "93\n",
            "95\n",
            "97\n",
            "99\n",
            "101\n",
            "103\n",
            "105\n",
            "107\n",
            "109\n",
            "111\n",
            "113\n",
            "115\n",
            "117\n",
            "119\n",
            "121\n",
            "123\n",
            "125\n",
            "127\n",
            "129\n",
            "131\n",
            "133\n",
            "135\n",
            "137\n",
            "139\n",
            "141\n",
            "143\n",
            "145\n",
            "147\n",
            "149\n",
            "151\n",
            "153\n",
            "155\n",
            "157\n",
            "159\n",
            "161\n",
            "163\n",
            "165\n",
            "167\n",
            "169\n",
            "171\n",
            "173\n",
            "175\n",
            "177\n",
            "179\n",
            "181\n",
            "183\n",
            "185\n",
            "187\n",
            "189\n",
            "191\n",
            "193\n",
            "195\n",
            "197\n",
            "199\n",
            "201\n",
            "203\n",
            "205\n",
            "207\n",
            "209\n",
            "211\n",
            "213\n",
            "215\n",
            "217\n",
            "219\n",
            "221\n",
            "223\n",
            "225\n",
            "227\n",
            "229\n",
            "231\n",
            "233\n",
            "235\n",
            "237\n",
            "239\n",
            "241\n",
            "243\n",
            "245\n",
            "247\n",
            "249\n",
            "251\n",
            "253\n",
            "255\n",
            "257\n",
            "259\n",
            "261\n",
            "263\n",
            "265\n",
            "267\n",
            "269\n",
            "271\n",
            "273\n",
            "275\n",
            "277\n",
            "279\n",
            "281\n",
            "283\n",
            "285\n",
            "287\n",
            "289\n",
            "291\n",
            "293\n",
            "295\n",
            "297\n",
            "299\n",
            "301\n",
            "303\n",
            "305\n",
            "307\n",
            "309\n",
            "311\n",
            "313\n",
            "315\n",
            "317\n",
            "319\n",
            "321\n",
            "323\n",
            "325\n",
            "327\n",
            "329\n",
            "331\n",
            "333\n",
            "335\n",
            "337\n",
            "339\n",
            "341\n",
            "343\n",
            "345\n",
            "347\n",
            "349\n",
            "351\n",
            "353\n",
            "355\n",
            "357\n",
            "359\n",
            "361\n",
            "363\n",
            "365\n",
            "367\n",
            "369\n",
            "371\n",
            "373\n",
            "375\n",
            "377\n",
            "379\n",
            "381\n",
            "383\n",
            "385\n",
            "387\n",
            "389\n",
            "391\n",
            "393\n",
            "395\n",
            "397\n",
            "399\n",
            "401\n",
            "403\n",
            "405\n",
            "407\n",
            "409\n",
            "411\n",
            "413\n",
            "415\n",
            "417\n",
            "419\n",
            "421\n",
            "423\n",
            "425\n",
            "427\n",
            "429\n",
            "431\n",
            "433\n",
            "435\n",
            "437\n",
            "439\n",
            "441\n",
            "443\n",
            "445\n",
            "447\n",
            "449\n",
            "451\n",
            "453\n",
            "455\n",
            "457\n",
            "459\n",
            "461\n",
            "463\n",
            "465\n",
            "467\n",
            "469\n",
            "471\n",
            "473\n",
            "475\n",
            "477\n",
            "479\n",
            "481\n",
            "483\n",
            "485\n",
            "487\n",
            "489\n",
            "491\n",
            "493\n",
            "495\n",
            "497\n",
            "499\n",
            "501\n",
            "503\n",
            "505\n",
            "507\n",
            "509\n",
            "511\n",
            "513\n",
            "515\n",
            "517\n",
            "519\n",
            "521\n",
            "523\n",
            "525\n",
            "527\n",
            "529\n",
            "531\n",
            "533\n",
            "535\n",
            "537\n",
            "539\n",
            "541\n",
            "543\n",
            "545\n",
            "547\n",
            "549\n",
            "551\n",
            "553\n",
            "555\n",
            "557\n",
            "559\n",
            "561\n",
            "563\n",
            "565\n",
            "567\n",
            "569\n",
            "571\n",
            "573\n",
            "575\n",
            "577\n",
            "579\n",
            "581\n",
            "583\n",
            "585\n",
            "587\n",
            "589\n",
            "591\n",
            "593\n",
            "595\n",
            "597\n",
            "599\n",
            "601\n",
            "603\n",
            "605\n",
            "607\n",
            "609\n",
            "611\n",
            "613\n",
            "615\n",
            "617\n",
            "619\n",
            "621\n",
            "623\n",
            "625\n",
            "627\n",
            "629\n",
            "631\n",
            "633\n",
            "635\n",
            "637\n",
            "639\n",
            "641\n",
            "643\n",
            "645\n",
            "647\n",
            "649\n",
            "651\n",
            "653\n",
            "655\n",
            "657\n",
            "659\n",
            "661\n",
            "663\n",
            "665\n",
            "667\n",
            "669\n",
            "671\n",
            "673\n",
            "675\n",
            "677\n",
            "679\n",
            "681\n",
            "683\n",
            "685\n",
            "687\n",
            "689\n",
            "691\n",
            "693\n",
            "695\n",
            "697\n",
            "699\n",
            "701\n",
            "703\n",
            "705\n",
            "707\n",
            "709\n",
            "711\n",
            "713\n",
            "715\n",
            "717\n",
            "719\n",
            "721\n",
            "723\n",
            "725\n",
            "727\n",
            "729\n",
            "731\n",
            "733\n",
            "735\n",
            "737\n",
            "739\n",
            "741\n",
            "743\n",
            "745\n",
            "747\n",
            "749\n",
            "751\n",
            "753\n",
            "755\n",
            "757\n",
            "759\n",
            "761\n",
            "763\n",
            "765\n",
            "767\n",
            "769\n",
            "771\n",
            "773\n",
            "775\n",
            "777\n",
            "779\n",
            "781\n",
            "783\n",
            "785\n",
            "787\n",
            "789\n",
            "791\n",
            "793\n",
            "795\n",
            "797\n",
            "799\n",
            "801\n",
            "803\n",
            "805\n",
            "807\n",
            "809\n",
            "811\n",
            "813\n",
            "815\n",
            "817\n",
            "819\n",
            "821\n",
            "823\n",
            "825\n",
            "827\n",
            "829\n",
            "831\n",
            "833\n",
            "835\n",
            "837\n",
            "839\n",
            "841\n",
            "843\n",
            "845\n",
            "847\n",
            "849\n",
            "851\n",
            "853\n",
            "855\n",
            "857\n",
            "859\n",
            "861\n",
            "863\n",
            "865\n",
            "867\n",
            "869\n",
            "871\n",
            "873\n",
            "875\n",
            "877\n",
            "879\n",
            "881\n",
            "883\n",
            "885\n",
            "887\n",
            "889\n",
            "891\n",
            "893\n",
            "895\n",
            "897\n",
            "899\n",
            "901\n",
            "903\n",
            "905\n",
            "907\n",
            "909\n",
            "911\n",
            "913\n",
            "915\n",
            "917\n",
            "919\n",
            "921\n",
            "923\n",
            "925\n",
            "927\n",
            "929\n",
            "931\n",
            "933\n",
            "935\n",
            "937\n",
            "939\n",
            "941\n",
            "943\n",
            "945\n",
            "947\n",
            "949\n",
            "951\n",
            "953\n",
            "955\n",
            "957\n",
            "959\n",
            "961\n",
            "963\n",
            "965\n",
            "967\n",
            "969\n",
            "971\n",
            "973\n",
            "975\n",
            "977\n",
            "979\n",
            "981\n",
            "983\n",
            "985\n",
            "987\n",
            "989\n",
            "991\n",
            "993\n",
            "995\n",
            "997\n",
            "999\n",
            "1001\n"
          ]
        }
      ]
    },
    {
      "cell_type": "markdown",
      "source": [
        "Q6. Write a python program to print the first 10 Fibonacci numbers using a while loop.\n"
      ],
      "metadata": {
        "id": "6SE9O2hLo0C2"
      },
      "id": "6SE9O2hLo0C2"
    },
    {
      "cell_type": "code",
      "source": [
        "def fib_num (n):\n",
        "    d,c= 1,2\n",
        "    for j in range (n):\n",
        "        yield d\n",
        "        d,c = c, d+c\n",
        "\n",
        "for h in fib_num(10):\n",
        "  print(h)"
      ],
      "metadata": {
        "colab": {
          "base_uri": "https://localhost:8080/"
        },
        "id": "ZcuP_5BNo1pM",
        "outputId": "6e78a6b1-2a1f-4ee3-9e19-34ed1d5a4ae3"
      },
      "id": "ZcuP_5BNo1pM",
      "execution_count": 84,
      "outputs": [
        {
          "output_type": "stream",
          "name": "stdout",
          "text": [
            "1\n",
            "2\n",
            "3\n",
            "5\n",
            "8\n",
            "13\n",
            "21\n",
            "34\n",
            "55\n",
            "89\n"
          ]
        }
      ]
    },
    {
      "cell_type": "code",
      "source": [],
      "metadata": {
        "id": "KK5WHw5PpFU1"
      },
      "id": "KK5WHw5PpFU1",
      "execution_count": 84,
      "outputs": []
    },
    {
      "cell_type": "markdown",
      "source": [
        "Q7. Write a List Comprehension to iterate through the given string: ‘pwskills’.\n",
        "\n",
        "Expected output: ['p', 'w', 's', 'k', 'i', 'l', 'l', 's']"
      ],
      "metadata": {
        "id": "z6F3vlLgpPuG"
      },
      "id": "z6F3vlLgpPuG"
    },
    {
      "cell_type": "code",
      "source": [
        "p= \"pwskills\"\n",
        "p1=[]\n",
        "for i in p :\n",
        "  p1.append(i)\n",
        "\n",
        "print(p1)"
      ],
      "metadata": {
        "colab": {
          "base_uri": "https://localhost:8080/"
        },
        "id": "daaFC643pQtl",
        "outputId": "d8f2570c-7eb0-42c9-fb0b-24a84ed6393f"
      },
      "id": "daaFC643pQtl",
      "execution_count": 85,
      "outputs": [
        {
          "output_type": "stream",
          "name": "stdout",
          "text": [
            "['p', 'w', 's', 'k', 'i', 'l', 'l', 's']\n"
          ]
        }
      ]
    },
    {
      "cell_type": "markdown",
      "source": [
        "Q8. Write a python program to check whether a given number is Palindrome or not using a while loop."
      ],
      "metadata": {
        "id": "SjjIII0JqMbf"
      },
      "id": "SjjIII0JqMbf"
    },
    {
      "cell_type": "code",
      "source": [
        "w1= input(int())\n",
        "if w1 == w1[::-1]:\n",
        "  print (w1[::-1],\"is Palindrome\")\n",
        "\n",
        "else : print (w1,\"in not Palindrome\")"
      ],
      "metadata": {
        "colab": {
          "base_uri": "https://localhost:8080/"
        },
        "id": "SqX3KTbiprcd",
        "outputId": "2ea708f3-0e13-400e-cb1b-e5560479e49b"
      },
      "id": "SqX3KTbiprcd",
      "execution_count": 86,
      "outputs": [
        {
          "output_type": "stream",
          "name": "stdout",
          "text": [
            "0599156251\n",
            "599156251 in not Palindrome\n"
          ]
        }
      ]
    },
    {
      "cell_type": "markdown",
      "source": [
        "Q9. Write a code to print odd numbers from 1 to 100 using list comprehension."
      ],
      "metadata": {
        "id": "MocltChNsPtH"
      },
      "id": "MocltChNsPtH"
    },
    {
      "cell_type": "code",
      "source": [
        "#a function to print odd numbers i using list comprehension\n",
        "def odd (d):\n",
        "    if d%2 !=0:\n",
        "      return d\n",
        "t= []\n",
        "for e in range(1,100):\n",
        "  if odd(e):\n",
        "    t.append(e)\n",
        "t"
      ],
      "metadata": {
        "colab": {
          "base_uri": "https://localhost:8080/"
        },
        "id": "BIHkfIn1qw0z",
        "outputId": "d9979f3e-6e2e-48a3-85fa-c7f82262553c"
      },
      "id": "BIHkfIn1qw0z",
      "execution_count": 9,
      "outputs": [
        {
          "output_type": "execute_result",
          "data": {
            "text/plain": [
              "[1,\n",
              " 3,\n",
              " 5,\n",
              " 7,\n",
              " 9,\n",
              " 11,\n",
              " 13,\n",
              " 15,\n",
              " 17,\n",
              " 19,\n",
              " 21,\n",
              " 23,\n",
              " 25,\n",
              " 27,\n",
              " 29,\n",
              " 31,\n",
              " 33,\n",
              " 35,\n",
              " 37,\n",
              " 39,\n",
              " 41,\n",
              " 43,\n",
              " 45,\n",
              " 47,\n",
              " 49,\n",
              " 51,\n",
              " 53,\n",
              " 55,\n",
              " 57,\n",
              " 59,\n",
              " 61,\n",
              " 63,\n",
              " 65,\n",
              " 67,\n",
              " 69,\n",
              " 71,\n",
              " 73,\n",
              " 75,\n",
              " 77,\n",
              " 79,\n",
              " 81,\n",
              " 83,\n",
              " 85,\n",
              " 87,\n",
              " 89,\n",
              " 91,\n",
              " 93,\n",
              " 95,\n",
              " 97,\n",
              " 99]"
            ]
          },
          "metadata": {},
          "execution_count": 9
        }
      ]
    }
  ],
  "metadata": {
    "kernelspec": {
      "display_name": "Python 3 (ipykernel)",
      "language": "python",
      "name": "python3"
    },
    "language_info": {
      "codemirror_mode": {
        "name": "ipython",
        "version": 3
      },
      "file_extension": ".py",
      "mimetype": "text/x-python",
      "name": "python",
      "nbconvert_exporter": "python",
      "pygments_lexer": "ipython3",
      "version": "3.10.8"
    },
    "colab": {
      "provenance": []
    }
  },
  "nbformat": 4,
  "nbformat_minor": 5
}