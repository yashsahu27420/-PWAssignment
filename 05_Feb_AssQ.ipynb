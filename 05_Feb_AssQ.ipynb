{
  "nbformat": 4,
  "nbformat_minor": 0,
  "metadata": {
    "colab": {
      "provenance": []
    },
    "kernelspec": {
      "name": "python3",
      "display_name": "Python 3"
    },
    "language_info": {
      "name": "python"
    }
  },
  "cells": [
    {
      "cell_type": "markdown",
      "source": [
        "Q1. Explain Class and Object with respect to Object-Oriented Programming. Give a suitable example."
      ],
      "metadata": {
        "id": "j82d-roQFGNX"
      }
    },
    {
      "cell_type": "code",
      "source": [
        "#In object-oriented programming, a class is a blueprint or template for creating objects, while an object is an instance of a class.\n",
        "\n",
        "# For example: A class \"Car\" defines the properties and behaviors of a car, and an object \"myCar\" can be created from this class."
      ],
      "metadata": {
        "id": "56T37ClGF2aW"
      },
      "execution_count": 2,
      "outputs": []
    },
    {
      "cell_type": "markdown",
      "source": [
        "Q2. Name the four pillars of OOPs."
      ],
      "metadata": {
        "id": "RuZWO9r1FH52"
      }
    },
    {
      "cell_type": "code",
      "source": [
        "#The four pillars of object-oriented programming are encapsulation, inheritance, polymorphism, and abstraction."
      ],
      "metadata": {
        "id": "JjcdpsZNGweK"
      },
      "execution_count": 3,
      "outputs": []
    },
    {
      "cell_type": "markdown",
      "source": [
        "Q3. Explain why the __init__() function is used. Give a suitable example."
      ],
      "metadata": {
        "id": "NvJXxs4UFID0"
      }
    },
    {
      "cell_type": "code",
      "source": [
        "#The init() function is used to initialize or set up initial values, configurations, or states for variables, objects, or systems before they are used."
      ],
      "metadata": {
        "id": "K4EHyctdJeWl"
      },
      "execution_count": 5,
      "outputs": []
    },
    {
      "cell_type": "markdown",
      "source": [
        "Q4. Why self is used in OOPs?"
      ],
      "metadata": {
        "id": "HwngJ_-KFILZ"
      }
    },
    {
      "cell_type": "code",
      "source": [
        "#Self is used in OOPs to refer to the current instance of a class."
      ],
      "metadata": {
        "id": "uKjX9z6OIZen"
      },
      "execution_count": null,
      "outputs": []
    },
    {
      "cell_type": "markdown",
      "source": [
        "Q5. What is inheritance? Give an example for each type of inheritance\n",
        "\n"
      ],
      "metadata": {
        "id": "Kovnf8zJFIUE"
      }
    },
    {
      "cell_type": "code",
      "source": [
        "\"\"\"Inheritance is a concept in OOP where a class (subclass/derived class) inherits properties and behaviors from another class (superclass/base class).\"\"\""
      ],
      "metadata": {
        "colab": {
          "base_uri": "https://localhost:8080/",
          "height": 53
        },
        "id": "TUrzUaW2FbFS",
        "outputId": "9da739c6-6f61-499d-82c4-26b80eeb37bd"
      },
      "execution_count": 4,
      "outputs": [
        {
          "output_type": "execute_result",
          "data": {
            "text/plain": [
              "'Inheritance is a concept in OOP where a class (subclass/derived class) inherits properties and behaviors from another class (superclass/base class).'"
            ],
            "application/vnd.google.colaboratory.intrinsic+json": {
              "type": "string"
            }
          },
          "metadata": {},
          "execution_count": 4
        }
      ]
    }
  ]
}